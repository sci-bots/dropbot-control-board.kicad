{
 "cells": [
  {
   "cell_type": "code",
   "execution_count": 2,
   "id": "1eabbf60-ad42-4401-88c4-5c7717d02a0d",
   "metadata": {},
   "outputs": [],
   "source": [
    "import os\n",
    "\n",
    "from kicad_helpers import get_schematic_path, get_bom_path, get_project_name\n",
    "from kicad_helpers.test import test_erc, test_drc, validate_bom"
   ]
  },
  {
   "cell_type": "code",
   "execution_count": null,
   "id": "4570fe70-5993-4a18-95b0-bac49bd0bd21",
   "metadata": {},
   "outputs": [],
   "source": [
    "assert os.path.exists(get_schematic_path()) # Check that schematic exists\n",
    "assert os.path.exists(get_bom_path()) # Check that the BOM exists\n",
    "assert \" \" not in get_project_name() # Check that there are no spaces in the project name"
   ]
  },
  {
   "cell_type": "code",
   "execution_count": null,
   "id": "aa6e5d5a-3204-4b34-81fe-533906636dcb",
   "metadata": {},
   "outputs": [],
   "source": [
    "test_erc()"
   ]
  },
  {
   "cell_type": "code",
   "execution_count": null,
   "id": "9dec90da-a917-43f4-9796-db471a368693",
   "metadata": {},
   "outputs": [],
   "source": [
    "test_drc()"
   ]
  },
  {
   "cell_type": "code",
   "execution_count": null,
   "id": "905e4504-d4f9-418c-8dda-c7227ba5401f",
   "metadata": {},
   "outputs": [],
   "source": [
    "validate_bom()"
   ]
  }
 ],
 "metadata": {
  "kernelspec": {
   "display_name": "Python 3 (ipykernel)",
   "language": "python",
   "name": "python3"
  },
  "language_info": {
   "codemirror_mode": {
    "name": "ipython",
    "version": 3
   },
   "file_extension": ".py",
   "mimetype": "text/x-python",
   "name": "python",
   "nbconvert_exporter": "python",
   "pygments_lexer": "ipython3",
   "version": "3.9.7"
  }
 },
 "nbformat": 4,
 "nbformat_minor": 5
}