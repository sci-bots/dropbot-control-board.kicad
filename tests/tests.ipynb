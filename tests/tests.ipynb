{
 "cells": [
  {
   "cell_type": "code",
   "execution_count": null,
   "id": "1eabbf60-ad42-4401-88c4-5c7717d02a0d",
   "metadata": {},
   "outputs": [],
   "source": [
    "import os\n",
    "\n",
    "from kicad_helpers import get_schematic_path, get_bom_path"
   ]
  },
  {
   "cell_type": "code",
   "execution_count": null,
   "id": "4570fe70-5993-4a18-95b0-bac49bd0bd21",
   "metadata": {},
   "outputs": [],
   "source": [
    "assert os.path.exists(get_schematic_path()) # Check that schematic exists\n",
    "assert os.path.exists(get_bom_path()) # Check that the BOM exists"
   ]
  }
 ],
 "metadata": {
  "kernelspec": {
   "display_name": "Python 3 (ipykernel)",
   "language": "python",
   "name": "python3"
  },
  "language_info": {
   "codemirror_mode": {
    "name": "ipython",
    "version": 3
   },
   "file_extension": ".py",
   "mimetype": "text/x-python",
   "name": "python",
   "nbconvert_exporter": "python",
   "pygments_lexer": "ipython3",
   "version": "3.9.7"
  }
 },
 "nbformat": 4,
 "nbformat_minor": 5
}